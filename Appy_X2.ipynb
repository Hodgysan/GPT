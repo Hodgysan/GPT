{
  "nbformat": 4,
  "nbformat_minor": 0,
  "metadata": {
    "colab": {
      "provenance": [],
      "authorship_tag": "ABX9TyPaEsDwg6iBjTC+05tJIWy7",
      "include_colab_link": true
    },
    "kernelspec": {
      "name": "python3",
      "display_name": "Python 3"
    },
    "language_info": {
      "name": "python"
    }
  },
  "cells": [
    {
      "cell_type": "markdown",
      "metadata": {
        "id": "view-in-github",
        "colab_type": "text"
      },
      "source": [
        "<a href=\"https://colab.research.google.com/github/Hodgysan/GPT/blob/main/Appy_X2.ipynb\" target=\"_parent\"><img src=\"https://colab.research.google.com/assets/colab-badge.svg\" alt=\"Open In Colab\"/></a>"
      ]
    },
    {
      "cell_type": "code",
      "execution_count": 4,
      "metadata": {
        "colab": {
          "base_uri": "https://localhost:8080/",
          "height": 385
        },
        "id": "G3bdzs9_Nc-n",
        "outputId": "371152af-d28b-4353-f8fe-e98e15dfbcca"
      },
      "outputs": [
        {
          "output_type": "error",
          "ename": "ModuleNotFoundError",
          "evalue": "No module named 'streamlit'",
          "traceback": [
            "\u001b[0;31m---------------------------------------------------------------------------\u001b[0m",
            "\u001b[0;31mModuleNotFoundError\u001b[0m                       Traceback (most recent call last)",
            "\u001b[0;32m<ipython-input-4-a480f376a195>\u001b[0m in \u001b[0;36m<cell line: 1>\u001b[0;34m()\u001b[0m\n\u001b[0;32m----> 1\u001b[0;31m \u001b[0;32mimport\u001b[0m \u001b[0mstreamlit\u001b[0m \u001b[0;32mas\u001b[0m \u001b[0mst\u001b[0m\u001b[0;34m\u001b[0m\u001b[0;34m\u001b[0m\u001b[0m\n\u001b[0m\u001b[1;32m      2\u001b[0m \u001b[0;32mimport\u001b[0m \u001b[0mrandom\u001b[0m\u001b[0;34m\u001b[0m\u001b[0;34m\u001b[0m\u001b[0m\n\u001b[1;32m      3\u001b[0m \u001b[0;34m\u001b[0m\u001b[0m\n\u001b[1;32m      4\u001b[0m \u001b[0;31m# Title of the app\u001b[0m\u001b[0;34m\u001b[0m\u001b[0;34m\u001b[0m\u001b[0m\n\u001b[1;32m      5\u001b[0m \u001b[0mst\u001b[0m\u001b[0;34m.\u001b[0m\u001b[0mtitle\u001b[0m\u001b[0;34m(\u001b[0m\u001b[0;34m\"PhotoYou Learning Hub\"\u001b[0m\u001b[0;34m)\u001b[0m\u001b[0;34m\u001b[0m\u001b[0;34m\u001b[0m\u001b[0m\n",
            "\u001b[0;31mModuleNotFoundError\u001b[0m: No module named 'streamlit'",
            "",
            "\u001b[0;31m---------------------------------------------------------------------------\u001b[0;32m\nNOTE: If your import is failing due to a missing package, you can\nmanually install dependencies using either !pip or !apt.\n\nTo view examples of installing some common dependencies, click the\n\"Open Examples\" button below.\n\u001b[0;31m---------------------------------------------------------------------------\u001b[0m\n"
          ],
          "errorDetails": {
            "actions": [
              {
                "action": "open_url",
                "actionText": "Open Examples",
                "url": "/notebooks/snippets/importing_libraries.ipynb"
              }
            ]
          }
        }
      ],
      "source": [
        "import streamlit as st\n",
        "import random\n",
        "\n",
        "# Title of the app\n",
        "st.title(\"PhotoYou Learning Hub\")\n",
        "\n",
        "# Instructional Guides\n",
        "if st.button(\"Instructional Guides\"):\n",
        "    st.header(\"Photography Vocabulary\")\n",
        "    vocabulary = [\n",
        "        \"Aperture: The opening in a lens through which light passes to enter the camera.\",\n",
        "        \"Shutter Speed: The length of time the camera shutter is open, exposing light onto the camera sensor.\",\n",
        "        \"ISO: A camera setting that will brighten or darken a photo.\",\n",
        "        \"Depth of Field: The distance between the nearest and the farthest objects that are in acceptably sharp focus.\",\n",
        "        \"Rule of Thirds: A composition guideline that places your subject in the left or right third of an image, leaving the other two-thirds more open.\",\n",
        "        \"Exposure: The amount of light that reaches your camera sensor or film.\",\n",
        "        \"White Balance: The process of removing unrealistic color casts so that objects which appear white in person are rendered white in your photo.\",\n",
        "        \"Composition: The placement or arrangement of visual elements in a photograph.\",\n",
        "        \"Focus: The process of adjusting the lens to make the subject appear sharp.\",\n",
        "        \"Bokeh: The aesthetic quality of the blur produced in the out-of-focus parts of an image.\"\n",
        "    ]\n",
        "    for term in vocabulary:\n",
        "        st.write(term)\n",
        "\n",
        "# Project Ideas\n",
        "if st.button(\"Project Ideas\"):\n",
        "    st.header(\"Project Ideas for Photography\")\n",
        "    ideas = [\n",
        "        \"1. Create a photo series capturing different types of lighting (e.g., golden hour, blue hour, artificial light).\",\n",
        "        \"2. Document a day in the life of someone you know, capturing candid moments and storytelling images.\",\n",
        "        \"3. Experiment with macro photography by photographing small objects or textures in great detail.\",\n",
        "        \"4. Create a black-and-white photo collection focusing on shadows and contrast.\",\n",
        "        \"5. Capture reflections in different surfaces, such as water, mirrors, or glass.\",\n",
        "        \"6. Create a portrait series focusing on emotions, capturing different expressions and moods.\",\n",
        "        \"7. Photograph architecture in your city, paying attention to lines, shapes, and patterns.\",\n",
        "        \"8. Capture motion using slow shutter speed to create light trails or show movement.\",\n",
        "        \"9. Take a series of photos that tell a story, using different compositions to guide the viewer.\",\n",
        "        \"10. Experiment with depth of field by taking photos with both shallow and deep focus.\"\n",
        "    ]\n",
        "    for idea in ideas:\n",
        "        st.write(idea)\n",
        "\n",
        "# Step-by-Step Breakdowns\n",
        "if st.button(\"Step-by-Step Breakdowns\"):\n",
        "    st.header(\"Step-by-Step Photography Techniques\")\n",
        "    steps = [\n",
        "        \"1. Setting up your camera: Learn how to adjust ISO, aperture, and shutter speed for optimal exposure.\",\n",
        "        \"2. Composing a shot: Use the rule of thirds, leading lines, and framing to create interesting compositions.\",\n",
        "        \"3. Focusing techniques: Learn how to use autofocus points or manual focus to ensure your subject is sharp.\",\n",
        "        \"4. Adjusting white balance: Understand how to use different white balance settings to get accurate colors.\",\n",
        "        \"5. Using natural light: Learn how to position your subject relative to the light source for the best effect.\",\n",
        "        \"6. Shooting in RAW: Understand the benefits of shooting in RAW format for post-processing flexibility.\",\n",
        "        \"7. Post-processing basics: Import your photos to editing software and make basic adjustments like exposure, contrast, and cropping.\",\n",
        "        \"8. Working with depth of field: Experiment with different apertures to control the depth of field in your photos.\",\n",
        "        \"9. Long exposure photography: Set up a tripod and use slow shutter speeds to capture light trails or flowing water.\",\n",
        "        \"10. Capturing action shots: Use fast shutter speeds to freeze motion and ensure your subject is sharp.\"\n",
        "    ]\n",
        "    for step in steps:\n",
        "        st.write(step)\n",
        "\n",
        "# Troubleshooting Help\n",
        "if st.button(\"Troubleshooting Help\"):\n",
        "    st.header(\"Troubleshooting Common Photography Issues\")\n",
        "    troubleshooting_tips = [\n",
        "        \"1. Blurry photos: Check your shutter speed, use a tripod, or increase your ISO for faster shutter speed.\",\n",
        "        \"2. Overexposed images: Reduce your ISO, use a smaller aperture, or increase shutter speed.\",\n",
        "        \"3. Underexposed images: Increase your ISO, use a larger aperture, or decrease shutter speed.\",\n",
        "        \"4. Colors look off: Adjust your white balance settings to match the lighting conditions.\",\n",
        "        \"5. Grainy images: Lower your ISO or use better lighting to reduce noise in your photos.\",\n",
        "        \"6. Harsh shadows: Use a diffuser, shoot in shaded areas, or wait for softer lighting conditions.\",\n",
        "        \"7. Uneven focus: Use a smaller aperture to increase depth of field or ensure your autofocus is on the correct subject.\",\n",
        "        \"8. Glare in photos: Change your shooting angle or use a polarizing filter to reduce reflections.\",\n",
        "        \"9. Dull images: Adjust contrast and saturation in post-processing to make your photos more vibrant.\",\n",
        "        \"10. Motion blur: Use a faster shutter speed or stabilize your camera with a tripod.\"\n",
        "    ]\n",
        "    for tip in troubleshooting_tips:\n",
        "        st.write(tip)\n",
        "\n",
        "# Glossary of Terms with Flashcards\n",
        "if st.button(\"Glossary of Terms\"):\n",
        "    st.header(\"Glossary of Photography Terms\")\n",
        "    glossary = [\n",
        "        (\"Aperture\", \"The adjustable opening in a camera lens that controls the amount of light entering the camera.\"),\n",
        "        (\"Shutter Speed\", \"The duration for which the camera shutter remains open to allow light to reach the sensor.\"),\n",
        "        (\"ISO\", \"The sensitivity of the camera sensor to light; higher ISO means more sensitivity.\"),\n",
        "        (\"Exposure\", \"The amount of light that hits the camera sensor, affected by aperture, shutter speed, and ISO.\"),\n",
        "        (\"White Balance\", \"A camera setting that adjusts for lighting in order to make white objects appear white in photos.\"),\n",
        "        (\"Depth of Field\", \"The range of distance within a photo that appears acceptably sharp.\"),\n",
        "        (\"Focus\", \"The process of adjusting the lens to make a subject appear sharp.\"),\n",
        "        (\"Bokeh\", \"The quality of the out-of-focus areas of an image, often used to create aesthetic blur.\"),\n",
        "        (\"Composition\", \"The arrangement of elements within a photograph to create a pleasing or meaningful image.\"),\n",
        "        (\"RAW\", \"A file format that captures all image data recorded by the sensor, providing greater flexibility in editing.\")\n",
        "    ]\n",
        "    if st.button(\"Show Flashcard\"):\n",
        "        term, definition = random.choice(glossary)\n",
        "        st.subheader(term)\n",
        "        st.write(definition)\n",
        "\n"
      ]
    }
  ]
}